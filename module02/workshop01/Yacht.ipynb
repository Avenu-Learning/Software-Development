{
 "cells": [
  {
   "cell_type": "code",
   "execution_count": null,
   "metadata": {},
   "outputs": [],
   "source": [
    "from random import choice"
   ]
  },
  {
   "cell_type": "code",
   "execution_count": null,
   "metadata": {},
   "outputs": [],
   "source": [
    "class Die():\n",
    "    FACES = ['🎲', '⚀', '⚁', '⚂', '⚃', '⚄', '⚅']\n",
    "\n",
    "    def __init__(self):\n",
    "        self.value = \n",
    "        self.fixed = \n",
    "    \n",
    "    def __str__(self):\n",
    "        \"\"\"String representation of dice\"\"\"\n",
    "        \n",
    "    def roll(self):\n",
    "        \"\"\"Roll dice and return value\"\"\"\n",
    "    \n",
    "    def get_value(self):\n",
    "        \"\"\"Return dice value\"\"\"\n",
    "    \n",
    "    def toggle(self):\n",
    "        \"\"\"Toggle dice fixed value\"\"\"\n",
    "    \n",
    "    def get_fixed(self):\n",
    "        \"\"\"Return whether dice is fixed\"\"\"\n",
    "    \n",
    "    def set_fixed(self, flag):\n",
    "        \"\"\"Manually set dice fixed with flag value\n",
    "        \"\"\""
   ]
  },
  {
   "cell_type": "code",
   "execution_count": null,
   "metadata": {},
   "outputs": [],
   "source": [
    "class Dice(Die):\n",
    "    def __init__(self):\n",
    "        self.dice = \n",
    "        return\n",
    "    \n",
    "    def __str__(self):\n",
    "        \"\"\"Return string representation of dice\"\"\"\n",
    "    \n",
    "    def roll(self):\n",
    "        \"\"\"Roll dice\"\"\"\n",
    "    \n",
    "    def set_fixed(self, flags):\n",
    "        \"\"\"Set dice flags based on passed list\"\"\"\n",
    "    \n",
    "    def get_dice_value(self):\n",
    "        \"\"\"Return dice value as list of int\"\"\"\n",
    "    \n",
    "    def reset_fixed(self):\n",
    "        \"\"\"Reset dice fixed flags\"\"\""
   ]
  },
  {
   "cell_type": "code",
   "execution_count": null,
   "metadata": {},
   "outputs": [],
   "source": [
    "class Scores():\n",
    "    CHOICES = ['Fix dice', 'Ones', 'Twos', 'Threes', 'Fours', \n",
    "               'Fives', 'Sixes', 'Full House', 'Four same', \n",
    "               'Little Straight', 'Big Straight', 'Choice', \n",
    "               'Yacht']\n",
    "    \n",
    "    def __init__(self):\n",
    "        self.categories = \n",
    "        return\n",
    "    \n",
    "    def score_dice(self, category, dice):\n",
    "        \"\"\"Score the provided dice values based on passed category\"\"\"\n",
    "\n",
    "    def get_score(self, category):\n",
    "        \"\"\"Returns value of the passed category\"\"\"\n",
    "    \n",
    "    def set_score(self, category, score):\n",
    "        \"\"\"Sets the score of the category\"\"\"\n",
    "    \n",
    "    def is_game_over(self):\n",
    "        \"\"\"Check if all categories have been scored\"\"\""
   ]
  },
  {
   "cell_type": "code",
   "execution_count": null,
   "metadata": {},
   "outputs": [],
   "source": [
    "class Yacht(Dice, Scores):\n",
    "    def __init__(self):\n",
    "        self.dice = \n",
    "        self.scores = \n",
    "        self.rolled_turns = \n",
    "        self.score = \n",
    "\n",
    "    def print_dice(self):\n",
    "        \"\"\"Prints dice\"\"\"\n",
    "        \n",
    "    def roll_dice(self):\n",
    "        \"\"\"Roll dice and print outcome\"\"\"\n",
    "    \n",
    "    def fix_dice(self):\n",
    "        \"\"\"User intereaction to fix dice\"\"\"\n",
    "    \n",
    "    def display_choices(self):\n",
    "        \"\"\"Prints categories for user choice\"\"\"\n",
    "    \n",
    "    def play_game(self):\n",
    "        \"\"\"Game loop\"\"\""
   ]
  },
  {
   "cell_type": "code",
   "execution_count": null,
   "metadata": {},
   "outputs": [],
   "source": [
    "game = Yacht()"
   ]
  },
  {
   "cell_type": "code",
   "execution_count": null,
   "metadata": {},
   "outputs": [],
   "source": [
    "game.play_game()"
   ]
  }
 ],
 "metadata": {
  "kernelspec": {
   "display_name": "Python 3",
   "language": "python",
   "name": "python3"
  },
  "language_info": {
   "codemirror_mode": {
    "name": "ipython",
    "version": 3
   },
   "file_extension": ".py",
   "mimetype": "text/x-python",
   "name": "python",
   "nbconvert_exporter": "python",
   "pygments_lexer": "ipython3",
   "version": "3.7.6"
  }
 },
 "nbformat": 4,
 "nbformat_minor": 2
}
